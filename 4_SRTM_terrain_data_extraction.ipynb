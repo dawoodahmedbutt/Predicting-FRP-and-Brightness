{
  "nbformat": 4,
  "nbformat_minor": 0,
  "metadata": {
    "colab": {
      "provenance": [],
      "machine_shape": "hm"
    },
    "kernelspec": {
      "name": "python3",
      "display_name": "Python 3"
    },
    "language_info": {
      "name": "python"
    }
  },
  "cells": [
    {
      "cell_type": "code",
      "source": [
        "# install required libraries\n",
        "! pip install rasterio\n",
        "! pip install\n",
        "!apt-get update\n",
        "!apt-get install gdal-bin"
      ],
      "metadata": {
        "id": "C6iHVSyZBz8g",
        "colab": {
          "base_uri": "https://localhost:8080/"
        },
        "outputId": "26e308b1-91e2-4acc-df8a-45ff15b315d8"
      },
      "execution_count": null,
      "outputs": [
        {
          "output_type": "stream",
          "name": "stdout",
          "text": [
            "Requirement already satisfied: rasterio in /usr/local/lib/python3.11/dist-packages (1.4.3)\n",
            "Requirement already satisfied: affine in /usr/local/lib/python3.11/dist-packages (from rasterio) (2.4.0)\n",
            "Requirement already satisfied: attrs in /usr/local/lib/python3.11/dist-packages (from rasterio) (25.3.0)\n",
            "Requirement already satisfied: certifi in /usr/local/lib/python3.11/dist-packages (from rasterio) (2025.1.31)\n",
            "Requirement already satisfied: click>=4.0 in /usr/local/lib/python3.11/dist-packages (from rasterio) (8.1.8)\n",
            "Requirement already satisfied: cligj>=0.5 in /usr/local/lib/python3.11/dist-packages (from rasterio) (0.7.2)\n",
            "Requirement already satisfied: numpy>=1.24 in /usr/local/lib/python3.11/dist-packages (from rasterio) (2.0.2)\n",
            "Requirement already satisfied: click-plugins in /usr/local/lib/python3.11/dist-packages (from rasterio) (1.1.1)\n",
            "Requirement already satisfied: pyparsing in /usr/local/lib/python3.11/dist-packages (from rasterio) (3.2.1)\n",
            "\u001b[31mERROR: You must give at least one requirement to install (see \"pip help install\")\u001b[0m\u001b[31m\n",
            "Hit:1 https://cloud.r-project.org/bin/linux/ubuntu jammy-cran40/ InRelease\n",
            "Hit:2 http://security.ubuntu.com/ubuntu jammy-security InRelease\n",
            "Hit:3 https://developer.download.nvidia.com/compute/cuda/repos/ubuntu2204/x86_64  InRelease\n",
            "Hit:4 https://r2u.stat.illinois.edu/ubuntu jammy InRelease\n",
            "Hit:5 http://archive.ubuntu.com/ubuntu jammy InRelease\n",
            "Hit:6 http://archive.ubuntu.com/ubuntu jammy-updates InRelease\n",
            "Hit:7 http://archive.ubuntu.com/ubuntu jammy-backports InRelease\n",
            "Hit:8 https://ppa.launchpadcontent.net/deadsnakes/ppa/ubuntu jammy InRelease\n",
            "Hit:9 https://ppa.launchpadcontent.net/graphics-drivers/ppa/ubuntu jammy InRelease\n",
            "Hit:10 https://ppa.launchpadcontent.net/ubuntugis/ppa/ubuntu jammy InRelease\n",
            "Reading package lists... Done\n",
            "W: Skipping acquire of configured file 'main/source/Sources' as repository 'https://r2u.stat.illinois.edu/ubuntu jammy InRelease' does not seem to provide it (sources.list entry misspelt?)\n",
            "Reading package lists... Done\n",
            "Building dependency tree... Done\n",
            "Reading state information... Done\n",
            "gdal-bin is already the newest version (3.6.4+dfsg-1~jammy0).\n",
            "0 upgraded, 0 newly installed, 0 to remove and 32 not upgraded.\n"
          ]
        }
      ]
    },
    {
      "cell_type": "code",
      "source": [
        "# import libraries\n",
        "import pandas as pd\n",
        "import matplotlib.pyplot as plt\n",
        "import seaborn as sns\n",
        "import numpy as np\n",
        "from google.colab import drive\n",
        "import rasterio\n",
        "from rasterio.features import shapes\n",
        "from rasterio.merge import merge\n",
        "import os\n",
        "import glob\n",
        "import subprocess\n",
        "import dask.dataframe as dd\n",
        "from dask import delayed\n",
        "from pyproj import Transformer\n"
      ],
      "metadata": {
        "id": "3-qYlxPUBzms"
      },
      "execution_count": null,
      "outputs": []
    },
    {
      "cell_type": "code",
      "source": [
        "# Mount drive\n",
        "drive.mount('/content/drive')\n"
      ],
      "metadata": {
        "colab": {
          "base_uri": "https://localhost:8080/"
        },
        "id": "vRWIXYJcgwwF",
        "outputId": "eeb0aa8e-51bb-4a2c-8e0e-f9c69b3b3ac3"
      },
      "execution_count": null,
      "outputs": [
        {
          "output_type": "stream",
          "name": "stdout",
          "text": [
            "Drive already mounted at /content/drive; to attempt to forcibly remount, call drive.mount(\"/content/drive\", force_remount=True).\n"
          ]
        }
      ]
    },
    {
      "cell_type": "code",
      "source": [
        "# load the dataset - Change the name of the input file\n",
        "terrain_path = '/content/drive/MyDrive/0.Data science final project/4. Terrain data/Outputs/chunk_r1_c4.tif' #<-----------------------------------------CHANGE\n"
      ],
      "metadata": {
        "id": "dbKYsgQugz-a"
      },
      "execution_count": null,
      "outputs": []
    },
    {
      "cell_type": "code",
      "source": [
        "# Find the coordinate bounds for the loaded dataset\n",
        "with rasterio.open(terrain_path) as src:\n",
        "    bounds = src.bounds\n",
        "    print(bounds)"
      ],
      "metadata": {
        "colab": {
          "base_uri": "https://localhost:8080/"
        },
        "id": "tTuA9z-3ha1L",
        "outputId": "45201311-1665-4dfc-b311-e5a802f24651"
      },
      "execution_count": null,
      "outputs": [
        {
          "output_type": "stream",
          "name": "stdout",
          "text": [
            "BoundingBox(left=-116.20013888888045, bottom=42.20013888888653, right=-114.00013888888016, top=45.60013888888698)\n"
          ]
        }
      ]
    },
    {
      "cell_type": "code",
      "source": [
        "# Reproject the file to UTM Zone 10 or 11 based on the longitude value, if in the middle pick the zone where most of the data sits (below 120W its zone10, above 120W its zone11)\n",
        "input_tiff = terrain_path\n",
        "\n",
        "# Change the name of the output file\n",
        "projected_output = r'/content/drive/MyDrive/0.Data science final project/4. Terrain data/Projected outputs/projected_chunk_r1_c4.tif' #<--------- CHANGE\n",
        "\n",
        "# Reproject to UTM 10N/11N\n",
        "print(\"Reprojecting to UTM zone 11N...\") #<----------------------------------------------------------------------------------------------------CHANGE\n",
        "result = subprocess.run([\n",
        "    \"gdalwarp\",\n",
        "    \"-t_srs\",\n",
        "    \"EPSG:32611\", #use 32610 or 32611 #<-------------------------------------------------------------------------------------------------------CHANGE\n",
        "    input_tiff,\n",
        "    projected_output\n",
        "], capture_output=True, text=True)\n",
        "print(f\"gdalwarp stderr: {result.stderr}\")\n",
        "\n",
        "print(f\"Data reprojected and saved to {projected_output}\")\n"
      ],
      "metadata": {
        "colab": {
          "base_uri": "https://localhost:8080/"
        },
        "id": "M9FQVOr4hhLN",
        "outputId": "eb23808d-3a52-40bd-851b-55aa9416b4d9"
      },
      "execution_count": null,
      "outputs": [
        {
          "output_type": "stream",
          "name": "stdout",
          "text": [
            "Reprojecting to UTM zone 11N...\n",
            "gdalwarp stderr: \n",
            "Data reprojected and saved to /content/drive/MyDrive/0.Data science final project/4. Terrain data/Projected outputs/projected_chunk_r1_c4.tif\n"
          ]
        }
      ]
    },
    {
      "cell_type": "code",
      "source": [
        "# Ran the code without Dask and without chunking... estimate dcompletion for both of those was over 2.5hours\n",
        "# With chunking, able to process in a few mins\n",
        "\n",
        "# Extract elevation, slope and aspect from the projected output\n",
        "\n",
        "def extract_terrain_data(input_tiff_path, output_csv_path, chunk_size=1024):  # Added chunk_size\n",
        "\n",
        "    slope_tiff = \"slope.tif\"\n",
        "    aspect_tiff = \"aspect.tif\"\n",
        "\n",
        "    print(f\"Calculating slope for {input_tiff_path}...\")\n",
        "    try:\n",
        "        subprocess.run([\"gdaldem\", \"slope\", input_tiff_path, slope_tiff], check=True)\n",
        "    except subprocess.CalledProcessError as e:\n",
        "        print(f\"Error calculating slope: {e}\")\n",
        "        return\n",
        "\n",
        "    print(f\"Calculating aspect for {input_tiff_path}...\")\n",
        "    try:\n",
        "        subprocess.run([\"gdaldem\", \"aspect\", input_tiff_path, aspect_tiff], check=True)\n",
        "    except subprocess.CalledProcessError as e:\n",
        "        print(f\"Error calculating aspect: {e}\")\n",
        "        return\n",
        "\n",
        "    with rasterio.open(input_tiff_path) as src_elevation, \\\n",
        "         rasterio.open(slope_tiff) as src_slope, \\\n",
        "         rasterio.open(aspect_tiff) as src_aspect:\n",
        "\n",
        "        transform = src_elevation.transform\n",
        "        height = src_elevation.height\n",
        "        width = src_elevation.width\n",
        "        total_pixels = height * width\n",
        "        processed_pixels = 0\n",
        "\n",
        "        # Initialize lists to store data\n",
        "        x_coords = []\n",
        "        y_coords = []\n",
        "        elevations = []\n",
        "        slopes = []\n",
        "        aspects = []\n",
        "\n",
        "        # Iterate through chunks\n",
        "        for row_offset in range(0, height, chunk_size):\n",
        "            for col_offset in range(0, width, chunk_size):\n",
        "                chunk_width = min(chunk_size, width - col_offset)\n",
        "                chunk_height = min(chunk_size, height - row_offset)\n",
        "\n",
        "                window = rasterio.windows.Window(col_offset, row_offset, chunk_width, chunk_height)\n",
        "\n",
        "                elevation_chunk = src_elevation.read(1, window=window)\n",
        "                slope_chunk = src_slope.read(1, window=window)\n",
        "                aspect_chunk = src_aspect.read(1, window=window)\n",
        "\n",
        "                for row in range(chunk_height):\n",
        "                    for col in range(chunk_width):\n",
        "                        x, y = transform * (col + col_offset, row + row_offset)\n",
        "\n",
        "                        elevation = elevation_chunk[row, col]\n",
        "                        slope = slope_chunk[row, col]\n",
        "                        aspect = aspect_chunk[row, col]\n",
        "\n",
        "                        elevation = np.nan if elevation == src_elevation.nodata else elevation\n",
        "                        slope = np.nan if slope == src_slope.nodata else slope\n",
        "                        aspect = np.nan if aspect == src_aspect.nodata else aspect\n",
        "\n",
        "                        x_coords.append(x)\n",
        "                        y_coords.append(y)\n",
        "                        elevations.append(elevation)\n",
        "                        slopes.append(slope)\n",
        "                        aspects.append(aspect)\n",
        "\n",
        "                        processed_pixels += 1\n",
        "                        if processed_pixels % 1000000 == 0:\n",
        "                            print(f\"Processed {processed_pixels}/{total_pixels} pixels in {input_tiff_path}\")\n",
        "\n",
        "        # Create Pandas DataFrame\n",
        "        print(f\"Creating Pandas DataFrame for {input_tiff_path}...\")\n",
        "        df = pd.DataFrame({\n",
        "            'x': x_coords,\n",
        "            'y': y_coords,\n",
        "            'elevation': elevations,\n",
        "            'slope': slopes,\n",
        "            'aspect': aspects\n",
        "        })\n",
        "\n",
        "        # Save to CSV\n",
        "        print(f\"Saving to CSV for {input_tiff_path}...\")\n",
        "        df.to_csv(output_csv_path, index=False)\n",
        "\n",
        "    os.remove(slope_tiff)\n",
        "    os.remove(aspect_tiff)\n",
        "\n",
        "# Run the function\n",
        "# Chaange the input and output files names\n",
        "input_tiff = r'/content/drive/MyDrive/0.Data science final project/4. Terrain data/Projected outputs/projected_chunk_r1_c4.tif' #<--------------CHANGE\n",
        "output_csv = r'/content/drive/MyDrive/0.Data science final project/4. Terrain data/Extracted Data/chunk_r1_c4_terrain_data.csv' #<--------------CHANGE\n",
        "\n",
        "extract_terrain_data(input_tiff, output_csv)\n",
        "\n",
        "print(f\"Terrain data extracted and saved to {output_csv}\")"
      ],
      "metadata": {
        "colab": {
          "base_uri": "https://localhost:8080/"
        },
        "id": "-UvAP81Rrro1",
        "outputId": "5ece8ce1-cfe4-4015-efd5-4d60c5630978"
      },
      "execution_count": null,
      "outputs": [
        {
          "output_type": "stream",
          "name": "stdout",
          "text": [
            "Calculating slope for /content/drive/MyDrive/0.Data science final project/4. Terrain data/Projected outputs/projected_chunk_r1_c4.tif...\n",
            "Calculating aspect for /content/drive/MyDrive/0.Data science final project/4. Terrain data/Projected outputs/projected_chunk_r1_c4.tif...\n",
            "Processed 1000000/86442432 pixels in /content/drive/MyDrive/0.Data science final project/4. Terrain data/Projected outputs/projected_chunk_r1_c4.tif\n",
            "Processed 2000000/86442432 pixels in /content/drive/MyDrive/0.Data science final project/4. Terrain data/Projected outputs/projected_chunk_r1_c4.tif\n",
            "Processed 3000000/86442432 pixels in /content/drive/MyDrive/0.Data science final project/4. Terrain data/Projected outputs/projected_chunk_r1_c4.tif\n",
            "Processed 4000000/86442432 pixels in /content/drive/MyDrive/0.Data science final project/4. Terrain data/Projected outputs/projected_chunk_r1_c4.tif\n",
            "Processed 5000000/86442432 pixels in /content/drive/MyDrive/0.Data science final project/4. Terrain data/Projected outputs/projected_chunk_r1_c4.tif\n",
            "Processed 6000000/86442432 pixels in /content/drive/MyDrive/0.Data science final project/4. Terrain data/Projected outputs/projected_chunk_r1_c4.tif\n",
            "Processed 7000000/86442432 pixels in /content/drive/MyDrive/0.Data science final project/4. Terrain data/Projected outputs/projected_chunk_r1_c4.tif\n",
            "Processed 8000000/86442432 pixels in /content/drive/MyDrive/0.Data science final project/4. Terrain data/Projected outputs/projected_chunk_r1_c4.tif\n",
            "Processed 9000000/86442432 pixels in /content/drive/MyDrive/0.Data science final project/4. Terrain data/Projected outputs/projected_chunk_r1_c4.tif\n",
            "Processed 10000000/86442432 pixels in /content/drive/MyDrive/0.Data science final project/4. Terrain data/Projected outputs/projected_chunk_r1_c4.tif\n",
            "Processed 11000000/86442432 pixels in /content/drive/MyDrive/0.Data science final project/4. Terrain data/Projected outputs/projected_chunk_r1_c4.tif\n",
            "Processed 12000000/86442432 pixels in /content/drive/MyDrive/0.Data science final project/4. Terrain data/Projected outputs/projected_chunk_r1_c4.tif\n",
            "Processed 13000000/86442432 pixels in /content/drive/MyDrive/0.Data science final project/4. Terrain data/Projected outputs/projected_chunk_r1_c4.tif\n",
            "Processed 14000000/86442432 pixels in /content/drive/MyDrive/0.Data science final project/4. Terrain data/Projected outputs/projected_chunk_r1_c4.tif\n",
            "Processed 15000000/86442432 pixels in /content/drive/MyDrive/0.Data science final project/4. Terrain data/Projected outputs/projected_chunk_r1_c4.tif\n",
            "Processed 16000000/86442432 pixels in /content/drive/MyDrive/0.Data science final project/4. Terrain data/Projected outputs/projected_chunk_r1_c4.tif\n",
            "Processed 17000000/86442432 pixels in /content/drive/MyDrive/0.Data science final project/4. Terrain data/Projected outputs/projected_chunk_r1_c4.tif\n",
            "Processed 18000000/86442432 pixels in /content/drive/MyDrive/0.Data science final project/4. Terrain data/Projected outputs/projected_chunk_r1_c4.tif\n",
            "Processed 19000000/86442432 pixels in /content/drive/MyDrive/0.Data science final project/4. Terrain data/Projected outputs/projected_chunk_r1_c4.tif\n",
            "Processed 20000000/86442432 pixels in /content/drive/MyDrive/0.Data science final project/4. Terrain data/Projected outputs/projected_chunk_r1_c4.tif\n",
            "Processed 21000000/86442432 pixels in /content/drive/MyDrive/0.Data science final project/4. Terrain data/Projected outputs/projected_chunk_r1_c4.tif\n",
            "Processed 22000000/86442432 pixels in /content/drive/MyDrive/0.Data science final project/4. Terrain data/Projected outputs/projected_chunk_r1_c4.tif\n",
            "Processed 23000000/86442432 pixels in /content/drive/MyDrive/0.Data science final project/4. Terrain data/Projected outputs/projected_chunk_r1_c4.tif\n",
            "Processed 24000000/86442432 pixels in /content/drive/MyDrive/0.Data science final project/4. Terrain data/Projected outputs/projected_chunk_r1_c4.tif\n",
            "Processed 25000000/86442432 pixels in /content/drive/MyDrive/0.Data science final project/4. Terrain data/Projected outputs/projected_chunk_r1_c4.tif\n",
            "Processed 26000000/86442432 pixels in /content/drive/MyDrive/0.Data science final project/4. Terrain data/Projected outputs/projected_chunk_r1_c4.tif\n",
            "Processed 27000000/86442432 pixels in /content/drive/MyDrive/0.Data science final project/4. Terrain data/Projected outputs/projected_chunk_r1_c4.tif\n",
            "Processed 28000000/86442432 pixels in /content/drive/MyDrive/0.Data science final project/4. Terrain data/Projected outputs/projected_chunk_r1_c4.tif\n",
            "Processed 29000000/86442432 pixels in /content/drive/MyDrive/0.Data science final project/4. Terrain data/Projected outputs/projected_chunk_r1_c4.tif\n",
            "Processed 30000000/86442432 pixels in /content/drive/MyDrive/0.Data science final project/4. Terrain data/Projected outputs/projected_chunk_r1_c4.tif\n",
            "Processed 31000000/86442432 pixels in /content/drive/MyDrive/0.Data science final project/4. Terrain data/Projected outputs/projected_chunk_r1_c4.tif\n",
            "Processed 32000000/86442432 pixels in /content/drive/MyDrive/0.Data science final project/4. Terrain data/Projected outputs/projected_chunk_r1_c4.tif\n",
            "Processed 33000000/86442432 pixels in /content/drive/MyDrive/0.Data science final project/4. Terrain data/Projected outputs/projected_chunk_r1_c4.tif\n",
            "Processed 34000000/86442432 pixels in /content/drive/MyDrive/0.Data science final project/4. Terrain data/Projected outputs/projected_chunk_r1_c4.tif\n",
            "Processed 35000000/86442432 pixels in /content/drive/MyDrive/0.Data science final project/4. Terrain data/Projected outputs/projected_chunk_r1_c4.tif\n",
            "Processed 36000000/86442432 pixels in /content/drive/MyDrive/0.Data science final project/4. Terrain data/Projected outputs/projected_chunk_r1_c4.tif\n",
            "Processed 37000000/86442432 pixels in /content/drive/MyDrive/0.Data science final project/4. Terrain data/Projected outputs/projected_chunk_r1_c4.tif\n",
            "Processed 38000000/86442432 pixels in /content/drive/MyDrive/0.Data science final project/4. Terrain data/Projected outputs/projected_chunk_r1_c4.tif\n",
            "Processed 39000000/86442432 pixels in /content/drive/MyDrive/0.Data science final project/4. Terrain data/Projected outputs/projected_chunk_r1_c4.tif\n",
            "Processed 40000000/86442432 pixels in /content/drive/MyDrive/0.Data science final project/4. Terrain data/Projected outputs/projected_chunk_r1_c4.tif\n",
            "Processed 41000000/86442432 pixels in /content/drive/MyDrive/0.Data science final project/4. Terrain data/Projected outputs/projected_chunk_r1_c4.tif\n",
            "Processed 42000000/86442432 pixels in /content/drive/MyDrive/0.Data science final project/4. Terrain data/Projected outputs/projected_chunk_r1_c4.tif\n",
            "Processed 43000000/86442432 pixels in /content/drive/MyDrive/0.Data science final project/4. Terrain data/Projected outputs/projected_chunk_r1_c4.tif\n",
            "Processed 44000000/86442432 pixels in /content/drive/MyDrive/0.Data science final project/4. Terrain data/Projected outputs/projected_chunk_r1_c4.tif\n",
            "Processed 45000000/86442432 pixels in /content/drive/MyDrive/0.Data science final project/4. Terrain data/Projected outputs/projected_chunk_r1_c4.tif\n",
            "Processed 46000000/86442432 pixels in /content/drive/MyDrive/0.Data science final project/4. Terrain data/Projected outputs/projected_chunk_r1_c4.tif\n",
            "Processed 47000000/86442432 pixels in /content/drive/MyDrive/0.Data science final project/4. Terrain data/Projected outputs/projected_chunk_r1_c4.tif\n",
            "Processed 48000000/86442432 pixels in /content/drive/MyDrive/0.Data science final project/4. Terrain data/Projected outputs/projected_chunk_r1_c4.tif\n",
            "Processed 49000000/86442432 pixels in /content/drive/MyDrive/0.Data science final project/4. Terrain data/Projected outputs/projected_chunk_r1_c4.tif\n",
            "Processed 50000000/86442432 pixels in /content/drive/MyDrive/0.Data science final project/4. Terrain data/Projected outputs/projected_chunk_r1_c4.tif\n",
            "Processed 51000000/86442432 pixels in /content/drive/MyDrive/0.Data science final project/4. Terrain data/Projected outputs/projected_chunk_r1_c4.tif\n",
            "Processed 52000000/86442432 pixels in /content/drive/MyDrive/0.Data science final project/4. Terrain data/Projected outputs/projected_chunk_r1_c4.tif\n",
            "Processed 53000000/86442432 pixels in /content/drive/MyDrive/0.Data science final project/4. Terrain data/Projected outputs/projected_chunk_r1_c4.tif\n",
            "Processed 54000000/86442432 pixels in /content/drive/MyDrive/0.Data science final project/4. Terrain data/Projected outputs/projected_chunk_r1_c4.tif\n",
            "Processed 55000000/86442432 pixels in /content/drive/MyDrive/0.Data science final project/4. Terrain data/Projected outputs/projected_chunk_r1_c4.tif\n",
            "Processed 56000000/86442432 pixels in /content/drive/MyDrive/0.Data science final project/4. Terrain data/Projected outputs/projected_chunk_r1_c4.tif\n",
            "Processed 57000000/86442432 pixels in /content/drive/MyDrive/0.Data science final project/4. Terrain data/Projected outputs/projected_chunk_r1_c4.tif\n",
            "Processed 58000000/86442432 pixels in /content/drive/MyDrive/0.Data science final project/4. Terrain data/Projected outputs/projected_chunk_r1_c4.tif\n",
            "Processed 59000000/86442432 pixels in /content/drive/MyDrive/0.Data science final project/4. Terrain data/Projected outputs/projected_chunk_r1_c4.tif\n",
            "Processed 60000000/86442432 pixels in /content/drive/MyDrive/0.Data science final project/4. Terrain data/Projected outputs/projected_chunk_r1_c4.tif\n",
            "Processed 61000000/86442432 pixels in /content/drive/MyDrive/0.Data science final project/4. Terrain data/Projected outputs/projected_chunk_r1_c4.tif\n",
            "Processed 62000000/86442432 pixels in /content/drive/MyDrive/0.Data science final project/4. Terrain data/Projected outputs/projected_chunk_r1_c4.tif\n",
            "Processed 63000000/86442432 pixels in /content/drive/MyDrive/0.Data science final project/4. Terrain data/Projected outputs/projected_chunk_r1_c4.tif\n",
            "Processed 64000000/86442432 pixels in /content/drive/MyDrive/0.Data science final project/4. Terrain data/Projected outputs/projected_chunk_r1_c4.tif\n",
            "Processed 65000000/86442432 pixels in /content/drive/MyDrive/0.Data science final project/4. Terrain data/Projected outputs/projected_chunk_r1_c4.tif\n",
            "Processed 66000000/86442432 pixels in /content/drive/MyDrive/0.Data science final project/4. Terrain data/Projected outputs/projected_chunk_r1_c4.tif\n",
            "Processed 67000000/86442432 pixels in /content/drive/MyDrive/0.Data science final project/4. Terrain data/Projected outputs/projected_chunk_r1_c4.tif\n",
            "Processed 68000000/86442432 pixels in /content/drive/MyDrive/0.Data science final project/4. Terrain data/Projected outputs/projected_chunk_r1_c4.tif\n",
            "Processed 69000000/86442432 pixels in /content/drive/MyDrive/0.Data science final project/4. Terrain data/Projected outputs/projected_chunk_r1_c4.tif\n",
            "Processed 70000000/86442432 pixels in /content/drive/MyDrive/0.Data science final project/4. Terrain data/Projected outputs/projected_chunk_r1_c4.tif\n",
            "Processed 71000000/86442432 pixels in /content/drive/MyDrive/0.Data science final project/4. Terrain data/Projected outputs/projected_chunk_r1_c4.tif\n",
            "Processed 72000000/86442432 pixels in /content/drive/MyDrive/0.Data science final project/4. Terrain data/Projected outputs/projected_chunk_r1_c4.tif\n",
            "Processed 73000000/86442432 pixels in /content/drive/MyDrive/0.Data science final project/4. Terrain data/Projected outputs/projected_chunk_r1_c4.tif\n",
            "Processed 74000000/86442432 pixels in /content/drive/MyDrive/0.Data science final project/4. Terrain data/Projected outputs/projected_chunk_r1_c4.tif\n",
            "Processed 75000000/86442432 pixels in /content/drive/MyDrive/0.Data science final project/4. Terrain data/Projected outputs/projected_chunk_r1_c4.tif\n",
            "Processed 76000000/86442432 pixels in /content/drive/MyDrive/0.Data science final project/4. Terrain data/Projected outputs/projected_chunk_r1_c4.tif\n",
            "Processed 77000000/86442432 pixels in /content/drive/MyDrive/0.Data science final project/4. Terrain data/Projected outputs/projected_chunk_r1_c4.tif\n",
            "Processed 78000000/86442432 pixels in /content/drive/MyDrive/0.Data science final project/4. Terrain data/Projected outputs/projected_chunk_r1_c4.tif\n",
            "Processed 79000000/86442432 pixels in /content/drive/MyDrive/0.Data science final project/4. Terrain data/Projected outputs/projected_chunk_r1_c4.tif\n",
            "Processed 80000000/86442432 pixels in /content/drive/MyDrive/0.Data science final project/4. Terrain data/Projected outputs/projected_chunk_r1_c4.tif\n",
            "Processed 81000000/86442432 pixels in /content/drive/MyDrive/0.Data science final project/4. Terrain data/Projected outputs/projected_chunk_r1_c4.tif\n",
            "Processed 82000000/86442432 pixels in /content/drive/MyDrive/0.Data science final project/4. Terrain data/Projected outputs/projected_chunk_r1_c4.tif\n",
            "Processed 83000000/86442432 pixels in /content/drive/MyDrive/0.Data science final project/4. Terrain data/Projected outputs/projected_chunk_r1_c4.tif\n",
            "Processed 84000000/86442432 pixels in /content/drive/MyDrive/0.Data science final project/4. Terrain data/Projected outputs/projected_chunk_r1_c4.tif\n",
            "Processed 85000000/86442432 pixels in /content/drive/MyDrive/0.Data science final project/4. Terrain data/Projected outputs/projected_chunk_r1_c4.tif\n",
            "Processed 86000000/86442432 pixels in /content/drive/MyDrive/0.Data science final project/4. Terrain data/Projected outputs/projected_chunk_r1_c4.tif\n",
            "Creating Pandas DataFrame for /content/drive/MyDrive/0.Data science final project/4. Terrain data/Projected outputs/projected_chunk_r1_c4.tif...\n",
            "Saving to CSV for /content/drive/MyDrive/0.Data science final project/4. Terrain data/Projected outputs/projected_chunk_r1_c4.tif...\n",
            "Terrain data extracted and saved to /content/drive/MyDrive/0.Data science final project/4. Terrain data/Extracted Data/chunk_r1_c4_terrain_data.csv\n"
          ]
        }
      ]
    },
    {
      "cell_type": "code",
      "source": [
        "# Since the csv created has x and y in metres, they need to be converted back into lat/lon degrees\n",
        "\n",
        "def convert_utm_to_latlon(csv_file, output_csv):\n",
        "    \"\"\"\n",
        "    Converts x and y coordinates from UTM to latitude/longitude.\n",
        "\n",
        "    Args:\n",
        "        csv_file: Path to the input CSV file with UTM coordinates.\n",
        "        output_csv: Path to the output CSV file with latitude/longitude coordinates.\n",
        "    \"\"\"\n",
        "\n",
        "    df = pd.read_csv(csv_file)\n",
        "\n",
        "    # Define the CRS transformation\n",
        "    utm_crs = 'EPSG:32611'  # UTM Zone 10N  # <--------------------------------------------------------------------------------------------------------CHANGE\n",
        "    latlon_crs = 'EPSG:4326'  # WGS 84 (latitude/longitude)\n",
        "    transformer = Transformer.from_crs(utm_crs, latlon_crs, always_xy=True) #always xy ensures that the order of the coordinates is x,y\n",
        "\n",
        "    # Convert x and y coordinates to latitude and longitude\n",
        "    lons, lats = transformer.transform(df['x'].values, df['y'].values)\n",
        "\n",
        "    # Replace x and y with latitude and longitude\n",
        "    df['x'] = lons\n",
        "    df['y'] = lats\n",
        "\n",
        "    # Save the updated DataFrame to a new CSV file\n",
        "    df.to_csv(output_csv, index=False)\n",
        "\n",
        "# Example usage:\n",
        "input_csv = r'/content/drive/MyDrive/0.Data science final project/4. Terrain data/Extracted Data/chunk_r1_c4_terrain_data.csv'  # <---------------------CHANGE\n",
        "output_csv = r'/content/drive/MyDrive/0.Data science final project/4. Terrain data/Latlon data/chunk_r1_c4_latlon.csv'       # <---------------------CHANGE\n",
        "\n",
        "convert_utm_to_latlon(input_csv, output_csv)\n",
        "\n",
        "print(f\"UTM coordinates converted to latitude/longitude and saved to {output_csv}\")"
      ],
      "metadata": {
        "id": "WMwQJxH60N5m",
        "colab": {
          "base_uri": "https://localhost:8080/"
        },
        "outputId": "c085bd26-6b30-4657-dbc6-1dd1f39dc24f"
      },
      "execution_count": null,
      "outputs": [
        {
          "output_type": "stream",
          "name": "stdout",
          "text": [
            "UTM coordinates converted to latitude/longitude and saved to /content/drive/MyDrive/0.Data science final project/4. Terrain data/Latlon data/chunk_r1_c4_latlon.csv\n"
          ]
        }
      ]
    },
    {
      "cell_type": "code",
      "source": [],
      "metadata": {
        "id": "xVbFipze1v2B"
      },
      "execution_count": null,
      "outputs": []
    }
  ]
}